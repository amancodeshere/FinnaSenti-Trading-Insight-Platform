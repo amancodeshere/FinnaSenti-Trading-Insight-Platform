{
 "cells": [
  {
   "metadata": {},
   "cell_type": "markdown",
   "source": [
    "# FinnaSenti Sentiment Extraction\n",
    "\n",
    "__Sentiment Extraction and Summarization Financial Data__\n",
    "\n",
    "Task: Read financial summarize the key points from it such that we can gage the potential market sentiment that it can have.\n",
    "\n",
    "Model: FinBERT // Looking at other models as well on huggingface\n",
    "\n",
    "Dataset: Still working on it"
   ],
   "id": "a2b9e13fdeb3676a"
  },
  {
   "cell_type": "code",
   "id": "initial_id",
   "metadata": {
    "collapsed": true,
    "ExecuteTime": {
     "end_time": "2025-10-25T13:36:22.460759Z",
     "start_time": "2025-10-25T13:36:22.456679Z"
    }
   },
   "source": "print(\"Hello sheen\")",
   "outputs": [
    {
     "name": "stdout",
     "output_type": "stream",
     "text": [
      "Hello sheen\n"
     ]
    }
   ],
   "execution_count": 1
  }
 ],
 "metadata": {
  "kernelspec": {
   "display_name": "Python 3",
   "language": "python",
   "name": "python3"
  },
  "language_info": {
   "codemirror_mode": {
    "name": "ipython",
    "version": 2
   },
   "file_extension": ".py",
   "mimetype": "text/x-python",
   "name": "python",
   "nbconvert_exporter": "python",
   "pygments_lexer": "ipython2",
   "version": "2.7.6"
  }
 },
 "nbformat": 4,
 "nbformat_minor": 5
}
